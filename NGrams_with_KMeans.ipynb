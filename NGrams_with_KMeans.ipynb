{
 "cells": [
  {
   "cell_type": "code",
   "execution_count": 1,
   "id": "f3623b3c",
   "metadata": {},
   "outputs": [],
   "source": [
    "#some notes\n",
    "#1. Doesn't look like a player receive a curse is treated as an action"
   ]
  },
  {
   "cell_type": "code",
   "execution_count": 2,
   "id": "7888bde1",
   "metadata": {},
   "outputs": [],
   "source": [
    "import pandas as pd\n",
    "import pdb\n",
    "import re"
   ]
  },
  {
   "cell_type": "code",
   "execution_count": 3,
   "id": "0b34e221",
   "metadata": {},
   "outputs": [
    {
     "name": "stdout",
     "output_type": "stream",
     "text": [
      "       GameID  Player  Round  Turn              ActionDescription\n",
      "0           2       0      0     0              End Current Phase\n",
      "1           2       0      0     0              End Current Phase\n",
      "2           2       1      0     1              End Current Phase\n",
      "3           2       1      0     1    BuyCard: SILVER by player 1\n",
      "4           2       0      1     0              End Current Phase\n",
      "...       ...     ...    ...   ...                            ...\n",
      "17005     201       0     18     0    BuyCard: ESTATE by player 0\n",
      "17006     201       1     18     1               WITCH : Player 1\n",
      "17007     201       1     18     1  BuyCard: PROVINCE by player 1\n",
      "17008     201       0     19     0              End Current Phase\n",
      "17009     201       0     19     0  BuyCard: PROVINCE by player 0\n",
      "\n",
      "[17010 rows x 5 columns]\n",
      "Index(['GameID', 'Player', 'Round', 'Turn', 'ActionDescription'], dtype='object')\n"
     ]
    }
   ],
   "source": [
    "data  = pd.read_csv(\"data/ActionsReduced_BMWG_vs_DW_GPM100.csv\")\n",
    "data = data[['GameID', 'Player', 'Round','Turn','ActionDescription']]\n",
    "print(data)\n",
    "print(data.columns)"
   ]
  },
  {
   "cell_type": "code",
   "execution_count": 4,
   "id": "ea28f435",
   "metadata": {},
   "outputs": [],
   "source": [
    "#kingdom card types\n",
    "card_types_SD = ['ARTISAN', 'BANDIT', 'BUREAUCRAT', 'CHAPEL', 'FESTIVAL', 'GARDENS', 'SENTRY', 'THRONE_ROOM', 'WITCH',\n",
    "                 'WORKSHOP', 'CURSE', 'PROVINCE', 'DUCHY', 'ESTATE', 'GOLD', 'SILVER', 'COPPER']"
   ]
  },
  {
   "cell_type": "code",
   "execution_count": 29,
   "id": "7de65759",
   "metadata": {},
   "outputs": [
    {
     "name": "stdout",
     "output_type": "stream",
     "text": [
      "PLAYGOLD_1\n",
      "BUYPROVINCE_1\n",
      "ECF\n"
     ]
    }
   ],
   "source": [
    "#first format action decription\n",
    "def format_action(action, cardtypes):\n",
    "    #there are ... types of actions we need to format\n",
    "    # 1. 'End Current Phase' goes to ECP\n",
    "    # 2. 'BuyCard: CARDX by player Y' goes to BUYCARDX_Y\n",
    "    # 3. 'CARDX : Player Y' goes to PLAYCARDX_Y\n",
    "    \n",
    "    #to identify these we use regular expressions\n",
    "    pattern1 = re.compile(r'End Current Phase')\n",
    "    pattern2 = re.compile(r'BuyCard: (' + '|'.join(cardtypes) + r') by player (0|1)')\n",
    "    pattern3 = re.compile(r'(' + '|'.join(cardtypes) + r') : Player (0|1)')\n",
    "   \n",
    "    match1 = pattern1.match(action)\n",
    "    match2 = None\n",
    "    match3 = None\n",
    "    if match1 == None:\n",
    "        match2 = pattern2.match(action)\n",
    "    if match2 == None:\n",
    "        match3 =  pattern3.match(action)\n",
    "        \n",
    "    if match1 != None:\n",
    "        formatted_action = 'ECF'\n",
    "    elif match2 != None:\n",
    "        matched_card = match2.group(1)\n",
    "        player = match2.group(2)\n",
    "        formatted_action = 'BUY' + matched_card + '_' + str(player)\n",
    "    elif match3 != None:\n",
    "        matched_card = match3.group(1)\n",
    "        player = match3.group(2)\n",
    "        formatted_action = 'PLAY' + matched_card + '_' + str(player)\n",
    "    else:\n",
    "        raise Exception(\"Can't match action description\")\n",
    "        \n",
    "    return formatted_action\n",
    "\n",
    "print(format_action('GOLD : Player 1', card_types_SD))\n",
    "print(format_action('BuyCard: PROVINCE by player 1', card_types_SD))\n",
    "print(format_action('End Current Phase', card_types_SD))"
   ]
  },
  {
   "cell_type": "code",
   "execution_count": null,
   "id": "c0b399a6",
   "metadata": {},
   "outputs": [],
   "source": []
  }
 ],
 "metadata": {
  "kernelspec": {
   "display_name": "Python 3 (ipykernel)",
   "language": "python",
   "name": "python3"
  },
  "language_info": {
   "codemirror_mode": {
    "name": "ipython",
    "version": 3
   },
   "file_extension": ".py",
   "mimetype": "text/x-python",
   "name": "python",
   "nbconvert_exporter": "python",
   "pygments_lexer": "ipython3",
   "version": "3.9.18"
  }
 },
 "nbformat": 4,
 "nbformat_minor": 5
}
