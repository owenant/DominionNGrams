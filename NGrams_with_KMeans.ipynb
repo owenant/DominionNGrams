{
 "cells": [
  {
   "cell_type": "code",
   "execution_count": 1,
   "id": "3d63dad0",
   "metadata": {},
   "outputs": [],
   "source": [
    "#some notes\n",
    "#1. Doesn't look like a player receive a curse is treated as an action \n",
    "#2. Should I add round end markers?\n",
    "#3. Does normalising the ngram probabilities with the number of events in the trace make sense?"
   ]
  },
  {
   "cell_type": "code",
   "execution_count": 67,
   "id": "d792f3be",
   "metadata": {},
   "outputs": [
    {
     "name": "stderr",
     "output_type": "stream",
     "text": [
      "[nltk_data] Downloading package punkt to\n",
      "[nltk_data]     /Users/anthonyowen/nltk_data...\n",
      "[nltk_data]   Package punkt is already up-to-date!\n"
     ]
    }
   ],
   "source": [
    "import pandas as pd\n",
    "import pdb\n",
    "import re\n",
    "import nltk\n",
    "import numpy as np\n",
    "import matplotlib.pyplot as plt\n",
    "from itertools import product\n",
    "from itertools import combinations\n",
    "from itertools import permutations\n",
    "from nltk import ngrams\n",
    "from nltk.probability import FreqDist\n",
    "nltk.download('punkt')\n",
    "from collections import Counter\n",
    "from sklearn.cluster import KMeans\n",
    "\n",
    "#define number of NGrams to use\n",
    "N = 2"
   ]
  },
  {
   "cell_type": "code",
   "execution_count": 3,
   "id": "dc952cf0",
   "metadata": {},
   "outputs": [
    {
     "name": "stdout",
     "output_type": "stream",
     "text": [
      "       GameID  Player  Round  Turn              ActionDescription\n",
      "0           2       0      0     0              End Current Phase\n",
      "1           2       0      0     0              End Current Phase\n",
      "2           2       1      0     1              End Current Phase\n",
      "3           2       1      0     1    BuyCard: SILVER by player 1\n",
      "4           2       0      1     0              End Current Phase\n",
      "...       ...     ...    ...   ...                            ...\n",
      "17005     201       0     18     0    BuyCard: ESTATE by player 0\n",
      "17006     201       1     18     1               WITCH : Player 1\n",
      "17007     201       1     18     1  BuyCard: PROVINCE by player 1\n",
      "17008     201       0     19     0              End Current Phase\n",
      "17009     201       0     19     0  BuyCard: PROVINCE by player 0\n",
      "\n",
      "[17010 rows x 5 columns]\n",
      "Index(['GameID', 'Player', 'Round', 'Turn', 'ActionDescription'], dtype='object')\n"
     ]
    }
   ],
   "source": [
    "data  = pd.read_csv(\"data/ActionsReduced_BMWG_vs_DW_GPM100.csv\")\n",
    "data = data[['GameID', 'Player', 'Round','Turn','ActionDescription']]\n",
    "print(data)\n",
    "print(data.columns)"
   ]
  },
  {
   "cell_type": "code",
   "execution_count": 69,
   "id": "051078ab",
   "metadata": {},
   "outputs": [],
   "source": [
    "NOOFPLAYERS = 2 #note, keep this fixed and dont change it - we always assume there are only two players\n",
    "agents = ['BMWG', 'DW']\n",
    "\n",
    "#if using TAG, parameters for round robin tournament\n",
    "LOGS_FROM_TAG = True\n",
    "games_per_matchup = 100\n",
    "self_play = False\n",
    "NoOfGames = len(data['GameID'].unique())\n",
    "\n",
    "#label all games with corresponding agent names\n",
    "if LOGS_FROM_TAG == True:\n",
    "    #first generate match-ups\n",
    "    matchups = []\n",
    "    if self_play:\n",
    "        for agent1 in agents:\n",
    "            for agent2 in agents:\n",
    "                matchups.append((agent1, agent2))\n",
    "    else:\n",
    "        matchups = list(permutations(agents, 2))\n",
    "\n",
    "    #function to map gameID to match-up\n",
    "    def gameID_to_matchup(game_id, player_no, matchup_list, no_games_per_matchup, min_game_id):\n",
    "        game_group = int((game_id - min_game_id)/no_games_per_matchup)\n",
    "        matchup = matchup_list[game_group]\n",
    "        agent1, agent2 = matchup\n",
    "        if player_no == 0:\n",
    "            return agent1\n",
    "        else:\n",
    "            return agent2\n",
    "\n",
    "    #add agent names to data set\n",
    "    min_GameID = data['GameID'].min()\n",
    "    data['AgentName'] = data.apply(lambda row: gameID_to_matchup(row['GameID'], row['Player'], matchups, games_per_matchup, min_GameID), axis = 1)       "
   ]
  },
  {
   "cell_type": "code",
   "execution_count": 71,
   "id": "a83be4da",
   "metadata": {},
   "outputs": [],
   "source": [
    "#kingdom card types\n",
    "card_types_SD = ['ARTISAN', 'BANDIT', 'BUREAUCRAT', 'CHAPEL', 'FESTIVAL', 'GARDENS', 'SENTRY', 'THRONE_ROOM', 'WITCH',\n",
    "                 'WORKSHOP', 'CURSE', 'PROVINCE', 'DUCHY', 'ESTATE', 'GOLD', 'SILVER', 'COPPER']\n",
    "card_types_SD_no_curse = ['ARTISAN', 'BANDIT', 'BUREAUCRAT', 'CHAPEL', 'FESTIVAL', 'GARDENS', 'SENTRY', 'THRONE_ROOM', 'WITCH',\n",
    "                 'WORKSHOP','PROVINCE', 'DUCHY', 'ESTATE', 'GOLD', 'SILVER', 'COPPER']\n",
    "card_types = card_types_SD_no_curse"
   ]
  },
  {
   "cell_type": "code",
   "execution_count": 72,
   "id": "5772e278",
   "metadata": {},
   "outputs": [],
   "source": [
    "#first format action decription\n",
    "def format_action(action, cardtypes):\n",
    "    #there are ... types of actions we need to format\n",
    "    # 1. 'End Current Phase' goes to ECP\n",
    "    # 2. 'BuyCard: CARDX by player Y' goes to BUYCARDX_Y\n",
    "    # 3. 'CARDX : Player Y' goes to PLAYCARDX_Y\n",
    "    \n",
    "    #to identify these we use regular expressions\n",
    "    pattern1 = re.compile(r'End Current Phase')\n",
    "    pattern2 = re.compile(r'BuyCard: (' + '|'.join(cardtypes) + r') by player (0|1)')\n",
    "    pattern3 = re.compile(r'(' + '|'.join(cardtypes) + r') : Player (0|1)')\n",
    "   \n",
    "    match1 = pattern1.match(action)\n",
    "    match2 = None\n",
    "    match3 = None\n",
    "    if match1 == None:\n",
    "        match2 = pattern2.match(action)\n",
    "    if match2 == None:\n",
    "        match3 =  pattern3.match(action)\n",
    "        \n",
    "    if match1 != None:\n",
    "        formatted_action = 'ECF'\n",
    "    elif match2 != None:\n",
    "        matched_card = match2.group(1)\n",
    "        player = match2.group(2)\n",
    "        formatted_action = 'BUY' + matched_card #+ '_' + str(player)\n",
    "    elif match3 != None:\n",
    "        matched_card = match3.group(1)\n",
    "        player = match3.group(2)\n",
    "        formatted_action = 'PLAY' + matched_card #+ '_' + str(player)\n",
    "    else:\n",
    "        raise Exception(\"Can't match action description\")\n",
    "        \n",
    "    return formatted_action\n",
    "\n",
    "#print(format_action('GOLD : Player 1', card_types_SD))\n",
    "#print(format_action('BuyCard: PROVINCE by player 1', card_types))\n",
    "#print(format_action('End Current Phase', card_types_SD))"
   ]
  },
  {
   "cell_type": "code",
   "execution_count": 73,
   "id": "352a3f49",
   "metadata": {},
   "outputs": [
    {
     "name": "stdout",
     "output_type": "stream",
     "text": [
      "       GameID  Player  Round  Turn              ActionDescription  \\\n",
      "0           2       0      0     0              End Current Phase   \n",
      "1           2       0      0     0              End Current Phase   \n",
      "2           2       1      0     1              End Current Phase   \n",
      "3           2       1      0     1    BuyCard: SILVER by player 1   \n",
      "4           2       0      1     0              End Current Phase   \n",
      "...       ...     ...    ...   ...                            ...   \n",
      "17005     201       0     18     0    BuyCard: ESTATE by player 0   \n",
      "17006     201       1     18     1               WITCH : Player 1   \n",
      "17007     201       1     18     1  BuyCard: PROVINCE by player 1   \n",
      "17008     201       0     19     0              End Current Phase   \n",
      "17009     201       0     19     0  BuyCard: PROVINCE by player 0   \n",
      "\n",
      "        ProcAction AgentName  \n",
      "0              ECF      BMWG  \n",
      "1              ECF      BMWG  \n",
      "2              ECF        DW  \n",
      "3        BUYSILVER        DW  \n",
      "4              ECF      BMWG  \n",
      "...            ...       ...  \n",
      "17005    BUYESTATE        DW  \n",
      "17006    PLAYWITCH      BMWG  \n",
      "17007  BUYPROVINCE      BMWG  \n",
      "17008          ECF        DW  \n",
      "17009  BUYPROVINCE        DW  \n",
      "\n",
      "[17010 rows x 7 columns]\n"
     ]
    }
   ],
   "source": [
    "#process input file\n",
    "data['ProcAction'] = data.apply(lambda row: format_action(row['ActionDescription'], card_types), axis = 1)\n",
    "print(data)"
   ]
  },
  {
   "cell_type": "code",
   "execution_count": 74,
   "id": "53ac4842",
   "metadata": {},
   "outputs": [
    {
     "name": "stdout",
     "output_type": "stream",
     "text": [
      "Action list length: 33\n",
      "N-gram list length: 1089\n"
     ]
    }
   ],
   "source": [
    "#create list of all possible actions - note we are ignoring responses to opponents cards (for SD this means just \n",
    "#ignoring receiving curse cards\n",
    "\n",
    "buy_actions = ['BUY' + str(card) for card in card_types]\n",
    "play_actions = ['PLAY' + str(card) for card in card_types]\n",
    "all_actions_list = ['ECF'] + buy_actions + play_actions\n",
    "print(\"Action list length: \" + str(len(all_actions_list)))\n",
    "#print(all_actions_list)\n",
    "\n",
    "#create list of all possible N-grams\n",
    "all_ngrams_list = list(product(all_actions_list, repeat=N))\n",
    "#print(all_ngrams_list)\n",
    "print(\"N-gram list length: \" + str(len(all_ngrams_list)))"
   ]
  },
  {
   "cell_type": "code",
   "execution_count": 76,
   "id": "a67da207",
   "metadata": {},
   "outputs": [
    {
     "name": "stdout",
     "output_type": "stream",
     "text": [
      "     GameID  Player AgentName  \\\n",
      "0         2       0      BMWG   \n",
      "1         2       1        DW   \n",
      "2         3       0      BMWG   \n",
      "3         3       1        DW   \n",
      "4         4       0      BMWG   \n",
      "..      ...     ...       ...   \n",
      "395     199       1      BMWG   \n",
      "396     200       0        DW   \n",
      "397     200       1      BMWG   \n",
      "398     201       0        DW   \n",
      "399     201       1      BMWG   \n",
      "\n",
      "                                            ProcAction  \\\n",
      "0    ECF ECF ECF BUYWITCH ECF BUYSILVER PLAYWITCH B...   \n",
      "1    ECF BUYSILVER ECF BUYSILVER ECF BUYSILVER ECF ...   \n",
      "2    ECF BUYSILVER ECF BUYSILVER ECF BUYSILVER ECF ...   \n",
      "3    ECF ECF ECF BUYSILVER ECF BUYSILVER ECF BUYSIL...   \n",
      "4    ECF BUYSILVER ECF BUYSILVER ECF BUYWITCH ECF B...   \n",
      "..                                                 ...   \n",
      "395  ECF BUYSILVER ECF BUYSILVER ECF BUYWITCH ECF B...   \n",
      "396  ECF BUYSILVER ECF BUYSILVER ECF BUYSILVER ECF ...   \n",
      "397  ECF BUYSILVER ECF BUYSILVER ECF BUYWITCH ECF B...   \n",
      "398  ECF BUYSILVER ECF BUYSILVER ECF BUYSILVER ECF ...   \n",
      "399  ECF BUYSILVER ECF BUYSILVER ECF BUYSILVER ECF ...   \n",
      "\n",
      "                                                NGrams  \n",
      "0    [(ECF, ECF), (ECF, ECF), (ECF, BUYWITCH), (BUY...  \n",
      "1    [(ECF, BUYSILVER), (BUYSILVER, ECF), (ECF, BUY...  \n",
      "2    [(ECF, BUYSILVER), (BUYSILVER, ECF), (ECF, BUY...  \n",
      "3    [(ECF, ECF), (ECF, ECF), (ECF, BUYSILVER), (BU...  \n",
      "4    [(ECF, BUYSILVER), (BUYSILVER, ECF), (ECF, BUY...  \n",
      "..                                                 ...  \n",
      "395  [(ECF, BUYSILVER), (BUYSILVER, ECF), (ECF, BUY...  \n",
      "396  [(ECF, BUYSILVER), (BUYSILVER, ECF), (ECF, BUY...  \n",
      "397  [(ECF, BUYSILVER), (BUYSILVER, ECF), (ECF, BUY...  \n",
      "398  [(ECF, BUYSILVER), (BUYSILVER, ECF), (ECF, BUY...  \n",
      "399  [(ECF, BUYSILVER), (BUYSILVER, ECF), (ECF, BUY...  \n",
      "\n",
      "[400 rows x 5 columns]\n"
     ]
    }
   ],
   "source": [
    "#convert input data so that each row contains gameID, player and then a list of ngrams \n",
    "#corresponding to the trace\n",
    "traces = data.groupby(['GameID', 'Player','AgentName'])['ProcAction'].agg(lambda x: ' '.join(x)).reset_index()\n",
    "traces['NGrams'] = traces.apply(lambda row: list(ngrams(nltk.word_tokenize(row['ProcAction']),N)), axis = 1)\n",
    "print(traces)"
   ]
  },
  {
   "cell_type": "code",
   "execution_count": 96,
   "id": "957ac5d4",
   "metadata": {},
   "outputs": [],
   "source": [
    "#function to compute N-gram probabilities, returns a dictionary with the gram as key\n",
    "#and probability as value. Unobserved grams are contained in the dictionary with a \n",
    "#corresponding probability of zero. Inputs are a list of n grams for a given player in \n",
    "#a single game and a list of all possible ngrams\n",
    "def calc_probabilities(ngrams_trace, ngrams_all, convertToArray = False):\n",
    "    # Compute the frequency of ngrams in the trace\n",
    "    frequency_counter = Counter(ngrams_trace)\n",
    "    \n",
    "    #calculate frequencies of all ngrams in ngrams_all that appear in the playtrace\n",
    "    event_count = {gram: frequency_counter.get(gram, 0) for gram in set(ngrams_all)}\n",
    "    \n",
    "    #normalise each entry with the number of n-grams observed for that trace, to convert\n",
    "    #counts into probabilities\n",
    "    probs = {key: value / (1.0*len(ngrams_trace)) for key, value in event_count.items()}\n",
    "    \n",
    "    if convertToArray:\n",
    "        probs = np.array(list(probs.values()))\n",
    "        \n",
    "    return probs\n",
    "\n",
    "#function to calculate Jensen-Shannon distance\n",
    "def kl_divergence(p, q):\n",
    "    eps = 0.00000001\n",
    "    return np.sum(np.where(p < eps, 0, np.where(q < eps,0, p * np.log(p / (1.0*q)))))\n",
    "\n",
    "def jensen_shannon_distance(p, q):\n",
    "    m = 0.5 * (p + q)\n",
    "    return 0.5 * (kl_divergence(p, m) + kl_divergence(q, m))"
   ]
  },
  {
   "cell_type": "code",
   "execution_count": 80,
   "id": "01ff68f8",
   "metadata": {},
   "outputs": [],
   "source": [
    "#add columns to trace data containing arrays for probability data\n",
    "traces['ProbDict'] = traces.apply(lambda row: calc_probabilities(row['NGrams'], all_ngrams_list, False), axis = 1)\n",
    "traces['ProbArray'] = traces.apply(lambda row: calc_probabilities(row['NGrams'], all_ngrams_list, True), axis = 1)"
   ]
  },
  {
   "cell_type": "code",
   "execution_count": 81,
   "id": "c5b65536",
   "metadata": {},
   "outputs": [
    {
     "name": "stderr",
     "output_type": "stream",
     "text": [
      "/var/folders/60/sk8yhxb56ld6twrcnr2njl3h0000gn/T/ipykernel_2664/3288876650.py:5: RuntimeWarning: invalid value encountered in divide\n",
      "  return np.sum(np.where(p < eps, 0, np.where(q < eps,0, p * np.log(p / (1.0*q)))))\n",
      "/var/folders/60/sk8yhxb56ld6twrcnr2njl3h0000gn/T/ipykernel_2664/3288876650.py:5: RuntimeWarning: divide by zero encountered in log\n",
      "  return np.sum(np.where(p < eps, 0, np.where(q < eps,0, p * np.log(p / (1.0*q)))))\n",
      "/var/folders/60/sk8yhxb56ld6twrcnr2njl3h0000gn/T/ipykernel_2664/3288876650.py:5: RuntimeWarning: invalid value encountered in multiply\n",
      "  return np.sum(np.where(p < eps, 0, np.where(q < eps,0, p * np.log(p / (1.0*q)))))\n"
     ]
    }
   ],
   "source": [
    "#calculate distance matrix for all pairwise trace combinations\n",
    "def symm_distance_matrix(df, distance_func, colname):\n",
    "    traces = df[colname].tolist()\n",
    "    index_combinations = list(combinations(range(len(traces)), 2))\n",
    "\n",
    "    distance_values = [distance_func(traces[i],traces[j]) for i, j in index_combinations]\n",
    "    \n",
    "    num_rows = len(df)\n",
    "    distance_matrix = pd.DataFrame(index=range(num_rows), columns=range(num_rows))\n",
    "    \n",
    "    for (i, j), distance_value in zip(index_combinations, distance_values):\n",
    "        distance_matrix.at[i, j] = distance_value\n",
    "        distance_matrix.at[j, i] = distance_value  # mirror the value\n",
    "    \n",
    "    return distance_matrix.fillna(0)  # fill NaN values with zeros for diagonal elements\n",
    "\n",
    "js_dist_matrix = symm_distance_matrix(traces, jensen_shannon_distance, 'ProbArray')"
   ]
  },
  {
   "cell_type": "code",
   "execution_count": 82,
   "id": "2cd30d66",
   "metadata": {},
   "outputs": [
    {
     "name": "stderr",
     "output_type": "stream",
     "text": [
      "/Users/anthonyowen/opt/anaconda3/lib/python3.9/site-packages/sklearn/cluster/_kmeans.py:1412: FutureWarning: The default value of `n_init` will change from 10 to 'auto' in 1.4. Set the value of `n_init` explicitly to suppress the warning\n",
      "  super()._check_params_vs_input(X, default_n_init=10)\n",
      "/Users/anthonyowen/opt/anaconda3/lib/python3.9/site-packages/sklearn/cluster/_kmeans.py:1412: FutureWarning: The default value of `n_init` will change from 10 to 'auto' in 1.4. Set the value of `n_init` explicitly to suppress the warning\n",
      "  super()._check_params_vs_input(X, default_n_init=10)\n",
      "/Users/anthonyowen/opt/anaconda3/lib/python3.9/site-packages/sklearn/cluster/_kmeans.py:1412: FutureWarning: The default value of `n_init` will change from 10 to 'auto' in 1.4. Set the value of `n_init` explicitly to suppress the warning\n",
      "  super()._check_params_vs_input(X, default_n_init=10)\n",
      "/Users/anthonyowen/opt/anaconda3/lib/python3.9/site-packages/sklearn/cluster/_kmeans.py:1412: FutureWarning: The default value of `n_init` will change from 10 to 'auto' in 1.4. Set the value of `n_init` explicitly to suppress the warning\n",
      "  super()._check_params_vs_input(X, default_n_init=10)\n"
     ]
    },
    {
     "name": "stdout",
     "output_type": "stream",
     "text": [
      "[1.         0.09318128 0.06261473 0.05303398]\n"
     ]
    },
    {
     "data": {
      "image/png": "[encoded data removed]",
      "text/plain": [
       "<Figure size 640x480 with 1 Axes>"
      ]
     },
     "metadata": {},
     "output_type": "display_data"
    }
   ],
   "source": [
    "#now that we have the distance matrix we can perform K-means clustering. We start by looking at\n",
    "#inertia and elbow method\n",
    "#inertia and elbow method\n",
    "range_n_clusters = range(1, 5, 1)\n",
    "inertia_vals = []\n",
    "for num_clusters in range_n_clusters:\n",
    "    # Initialize the clusterer with n_clusters value and a random generator\n",
    "    # seed of 10 for reproducibility.\n",
    "    clusterer = KMeans(n_clusters=num_clusters)\n",
    "\n",
    "    # Fit the model to the data\n",
    "    clusterer.fit(js_dist_matrix)\n",
    "    \n",
    "    #clusterer = KMeans(n_clusters=n_clusters, init='k-means++', n_init= 'warn', max_iter=300, tol=0.0001,\n",
    "    #                verbose=0, random_state= 10, copy_x=True, algorithm='lloyd')\n",
    "    \n",
    "    #cluster_labels = clusterer.fit_predict(trace_X)\n",
    "    inertia_vals.append(clusterer.inertia_)\n",
    "\n",
    "#scale the inertia vals so that the first value is one\n",
    "inertia_vals = np.array(inertia_vals)/inertia_vals[0]\n",
    "\n",
    "#plot as a line plot\n",
    "plt.plot(range_n_clusters, inertia_vals)\n",
    "plt.xticks(range_n_clusters)\n",
    "plt.xlabel(\"Number of clusters\")\n",
    "plt.ylabel(\"Scaled inertia\")\n",
    "\n",
    "#output inertia values\n",
    "print(inertia_vals)"
   ]
  },
  {
   "cell_type": "code",
   "execution_count": 99,
   "id": "db771c44",
   "metadata": {},
   "outputs": [
    {
     "name": "stdout",
     "output_type": "stream",
     "text": [
      "[0. 0. 0. ... 0. 0. 0.]\n",
      "0.9999999999999991\n",
      "[0. 0. 0. ... 0. 0. 0.]\n",
      "0.9999999999999994\n"
     ]
    },
    {
     "name": "stderr",
     "output_type": "stream",
     "text": [
      "/Users/anthonyowen/opt/anaconda3/lib/python3.9/site-packages/sklearn/cluster/_kmeans.py:1412: FutureWarning: The default value of `n_init` will change from 10 to 'auto' in 1.4. Set the value of `n_init` explicitly to suppress the warning\n",
      "  super()._check_params_vs_input(X, default_n_init=10)\n"
     ]
    }
   ],
   "source": [
    "#examine centroids for two clusters\n",
    "num_clusters = 2\n",
    "clusterer = KMeans(n_clusters=num_clusters)\n",
    "\n",
    "# Fit the model to the data\n",
    "clusterer.fit(js_dist_matrix)\n",
    "\n",
    "#add cluster label to traces\n",
    "traces['ClusterLabel'] = clusterer.labels_\n",
    "\n",
    "#split data by cluster label\n",
    "X_0 =traces[traces['ClusterLabel'] == 0]['ProbArray']\n",
    "X_1 =traces[traces['ClusterLabel'] == 1]['ProbArray']\n",
    "\n",
    "#next we can compute the average probability array for each cluster\n",
    "average_prob_arr_cluster0 = np.mean(X_0, axis = 0)\n",
    "average_prob_arr_cluster1 = np.mean(X_1, axis = 0)\n",
    "\n",
    "print(average_prob_arr_cluster0)\n",
    "print(np.sum(average_prob_arr_cluster0))\n",
    "print(average_prob_arr_cluster1)\n",
    "print(np.sum(average_prob_arr_cluster1))"
   ]
  },
  {
   "cell_type": "code",
   "execution_count": 102,
   "id": "0e3229bd",
   "metadata": {},
   "outputs": [
    {
     "name": "stdout",
     "output_type": "stream",
     "text": [
      "BMWG: 200 times\n",
      "DW: 200 times\n"
     ]
    }
   ],
   "source": [
    "#check which agents we have in which cluster\n",
    "Agents_0 = traces[traces['ClusterLabel'] == 0]['AgentName']\n",
    "Agents_1 = traces[traces['ClusterLabel'] == 1]['AgentName']\n",
    "\n",
    "# Use Counter to count frequencies\n",
    "frequency_count_0 = Counter(Agents_0)\n",
    "frequency_count_1 = Counter(Agents_1)\n",
    "\n",
    "# Print the frequency count\n",
    "for value, count in frequency_count_0.items():\n",
    "    print(f\"{value}: {count} times\")\n",
    "    \n",
    "for value, count in frequency_count_1.items():\n",
    "    print(f\"{value}: {count} times\")"
   ]
  },
  {
   "cell_type": "code",
   "execution_count": null,
   "id": "6cd03326",
   "metadata": {},
   "outputs": [],
   "source": [
    "#next we look at the non-zero elements in both clusters and compare the probability distributions\n",
    "for index in range(0, len(average_prob_arr_cluster0)):\n",
    "    prob_cluster0 = average_prob_arr_cluster0[index]\n",
    "    prob_cluster1 = average_prob_arr_cluster1[index]\n",
    "    \n",
    "    \n"
   ]
  },
  {
   "cell_type": "code",
   "execution_count": null,
   "id": "a7c0b242",
   "metadata": {},
   "outputs": [],
   "source": [
    "#silhouette analysis\n",
    "range_n_clusters = [2, 3, 4, 5, 6, 7, 8, 9, 10]\n",
    "silhouette_avg_list = []\n",
    "\n",
    "for n_clusters in range_n_clusters:\n",
    "    # Create a subplot with 1 row and 1 columns\n",
    "    fig, ax1 = plt.subplots(1,1)\n",
    "    fig.set_size_inches(7, 3.5)\n",
    "\n",
    "    # The 1st subplot is the silhouette plot\n",
    "    # The silhouette coefficient can range from -1, 1\n",
    "    ax1.set_xlim([-0.1, 1])\n",
    "    # The (n_clusters+1)*10 is for inserting blank space between silhouette\n",
    "    # plots of individual clusters, to demarcate them clearly.\n",
    "    ax1.set_ylim([0, len(trace_X) + (n_clusters + 1) * 10])\n",
    "\n",
    "    # Initialize the clusterer with n_clusters value and a random generator\n",
    "    # seed of 10 for reproducibility.\n",
    "    clusterer = KMeans(n_clusters=n_clusters)\n",
    "    #cluster_labels = clusterer.fit_predict(X)\n",
    "    cluster_labels = clusterer.fit_predict(trace_X)\n",
    "\n",
    "    # The silhouette_score gives the average value for all the samples.\n",
    "    # This gives a perspective into the density and separation of the formed\n",
    "    # clusters\n",
    "    silhouette_avg = silhouette_score(trace_X, cluster_labels)\n",
    "    silhouette_avg_list.append(silhouette_avg)\n",
    "    print(\n",
    "        \"For n_clusters =\",\n",
    "        n_clusters,\n",
    "        \"The average silhouette_score is :\",\n",
    "        silhouette_avg,\n",
    "    )\n",
    "    \n",
    "    # Compute the silhouette scores for each sample\n",
    "    sample_silhouette_values = silhouette_samples(trace_X, cluster_labels)\n",
    "\n",
    "    y_lower = 10\n",
    "    for i in range(n_clusters):\n",
    "        # Aggregate the silhouette scores for samples belonging to\n",
    "        # cluster i, and sort them\n",
    "        ith_cluster_silhouette_values = sample_silhouette_values[cluster_labels == i]\n",
    "\n",
    "        ith_cluster_silhouette_values.sort()\n",
    "\n",
    "        size_cluster_i = ith_cluster_silhouette_values.shape[0]\n",
    "        y_upper = y_lower + size_cluster_i\n",
    "\n",
    "        color = cm.nipy_spectral(float(i) / n_clusters)\n",
    "        ax1.fill_betweenx(\n",
    "            np.arange(y_lower, y_upper),\n",
    "            0,\n",
    "            ith_cluster_silhouette_values,\n",
    "            facecolor=color,\n",
    "            edgecolor=color,\n",
    "            alpha=0.7,\n",
    "        )\n",
    "\n",
    "        # Label the silhouette plots with their cluster numbers at the middle\n",
    "        ax1.text(-0.05, y_lower + 0.5 * size_cluster_i, str(i))\n",
    "\n",
    "        # Compute the new y_lower for next plot\n",
    "        y_lower = y_upper + 10  # 10 for the 0 samples\n",
    "\n",
    "    #ax1.set_title(\"The silhouette plot for the various clusters.\")\n",
    "    ax1.set_xlabel(\"The silhouette coefficient values\")\n",
    "    ax1.set_ylabel(\"Cluster label\")\n",
    "\n",
    "    # The vertical line for average silhouette score of all the values\n",
    "    ax1.axvline(x=silhouette_avg, color=\"red\", linestyle=\"--\")\n",
    "\n",
    "    ax1.set_yticks([])  # Clear the yaxis labels / ticks\n",
    "    ax1.set_xticks([-0.1, 0, 0.2, 0.4, 0.6, 0.8, 1])\n",
    "    \n",
    "    plt.suptitle(\n",
    "        #\"Silhouette analysis for KMeans clustering on sample data with n_clusters = %d\"\n",
    "        \"Number of clusters = %d\"\n",
    "        % n_clusters,\n",
    "        fontsize=14,\n",
    "        fontweight=\"bold\",\n",
    "    )\n",
    "\n",
    "plt.show()\n",
    "\n",
    "#also we plot just the average silhouette values by cluster number\n",
    "plt.plot(range_n_clusters, silhouette_avg_list)\n",
    "plt.xlabel(\"Number of clusters\")\n",
    "plt.ylabel(\"Silhouette Average\")"
   ]
  }
 ],
 "metadata": {
  "kernelspec": {
   "display_name": "Python 3 (ipykernel)",
   "language": "python",
   "name": "python3"
  },
  "language_info": {
   "codemirror_mode": {
    "name": "ipython",
    "version": 3
   },
   "file_extension": ".py",
   "mimetype": "text/x-python",
   "name": "python",
   "nbconvert_exporter": "python",
   "pygments_lexer": "ipython3",
   "version": "3.9.18"
  }
 },
 "nbformat": 4,
 "nbformat_minor": 5
}
