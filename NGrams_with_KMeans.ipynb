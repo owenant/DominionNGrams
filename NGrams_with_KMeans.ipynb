{
 "cells": [
  {
   "cell_type": "code",
   "execution_count": 1,
   "id": "3d63dad0",
   "metadata": {},
   "outputs": [],
   "source": [
    "#some notes\n",
    "#1. Doesn't look like a player receive a curse is treated as an action \n",
    "#2. Should I add round end markers?\n",
    "#3. Does normalising the ngram probabilities with the number of events in the trace make sense?"
   ]
  },
  {
   "cell_type": "code",
   "execution_count": 1,
   "id": "d792f3be",
   "metadata": {},
   "outputs": [
    {
     "name": "stderr",
     "output_type": "stream",
     "text": [
      "[nltk_data] Downloading package punkt to\n",
      "[nltk_data]     /Users/anthonyowen/nltk_data...\n",
      "[nltk_data]   Package punkt is already up-to-date!\n"
     ]
    }
   ],
   "source": [
    "import pandas as pd\n",
    "import pdb\n",
    "import re\n",
    "import nltk\n",
    "from itertools import product\n",
    "from nltk import ngrams\n",
    "from nltk.probability import FreqDist\n",
    "nltk.download('punkt')\n",
    "from collections import Counter\n",
    "\n",
    "#define number of NGrams to use\n",
    "N = 2"
   ]
  },
  {
   "cell_type": "code",
   "execution_count": 3,
   "id": "dc952cf0",
   "metadata": {},
   "outputs": [
    {
     "name": "stdout",
     "output_type": "stream",
     "text": [
      "       GameID  Player  Round  Turn              ActionDescription\n",
      "0           2       0      0     0              End Current Phase\n",
      "1           2       0      0     0              End Current Phase\n",
      "2           2       1      0     1              End Current Phase\n",
      "3           2       1      0     1    BuyCard: SILVER by player 1\n",
      "4           2       0      1     0              End Current Phase\n",
      "...       ...     ...    ...   ...                            ...\n",
      "17005     201       0     18     0    BuyCard: ESTATE by player 0\n",
      "17006     201       1     18     1               WITCH : Player 1\n",
      "17007     201       1     18     1  BuyCard: PROVINCE by player 1\n",
      "17008     201       0     19     0              End Current Phase\n",
      "17009     201       0     19     0  BuyCard: PROVINCE by player 0\n",
      "\n",
      "[17010 rows x 5 columns]\n",
      "Index(['GameID', 'Player', 'Round', 'Turn', 'ActionDescription'], dtype='object')\n"
     ]
    }
   ],
   "source": [
    "data  = pd.read_csv(\"data/ActionsReduced_BMWG_vs_DW_GPM100.csv\")\n",
    "data = data[['GameID', 'Player', 'Round','Turn','ActionDescription']]\n",
    "print(data)\n",
    "print(data.columns)"
   ]
  },
  {
   "cell_type": "code",
   "execution_count": 4,
   "id": "a83be4da",
   "metadata": {},
   "outputs": [],
   "source": [
    "#kingdom card types\n",
    "card_types_SD = ['ARTISAN', 'BANDIT', 'BUREAUCRAT', 'CHAPEL', 'FESTIVAL', 'GARDENS', 'SENTRY', 'THRONE_ROOM', 'WITCH',\n",
    "                 'WORKSHOP', 'CURSE', 'PROVINCE', 'DUCHY', 'ESTATE', 'GOLD', 'SILVER', 'COPPER']\n",
    "card_types_SD_no_curse = ['ARTISAN', 'BANDIT', 'BUREAUCRAT', 'CHAPEL', 'FESTIVAL', 'GARDENS', 'SENTRY', 'THRONE_ROOM', 'WITCH',\n",
    "                 'WORKSHOP','PROVINCE', 'DUCHY', 'ESTATE', 'GOLD', 'SILVER', 'COPPER']\n",
    "card_types = card_types_SD_no_curse"
   ]
  },
  {
   "cell_type": "code",
   "execution_count": 5,
   "id": "5772e278",
   "metadata": {},
   "outputs": [],
   "source": [
    "#first format action decription\n",
    "def format_action(action, cardtypes):\n",
    "    #there are ... types of actions we need to format\n",
    "    # 1. 'End Current Phase' goes to ECP\n",
    "    # 2. 'BuyCard: CARDX by player Y' goes to BUYCARDX_Y\n",
    "    # 3. 'CARDX : Player Y' goes to PLAYCARDX_Y\n",
    "    \n",
    "    #to identify these we use regular expressions\n",
    "    pattern1 = re.compile(r'End Current Phase')\n",
    "    pattern2 = re.compile(r'BuyCard: (' + '|'.join(cardtypes) + r') by player (0|1)')\n",
    "    pattern3 = re.compile(r'(' + '|'.join(cardtypes) + r') : Player (0|1)')\n",
    "   \n",
    "    match1 = pattern1.match(action)\n",
    "    match2 = None\n",
    "    match3 = None\n",
    "    if match1 == None:\n",
    "        match2 = pattern2.match(action)\n",
    "    if match2 == None:\n",
    "        match3 =  pattern3.match(action)\n",
    "        \n",
    "    if match1 != None:\n",
    "        formatted_action = 'ECF'\n",
    "    elif match2 != None:\n",
    "        matched_card = match2.group(1)\n",
    "        player = match2.group(2)\n",
    "        formatted_action = 'BUY' + matched_card #+ '_' + str(player)\n",
    "    elif match3 != None:\n",
    "        matched_card = match3.group(1)\n",
    "        player = match3.group(2)\n",
    "        formatted_action = 'PLAY' + matched_card #+ '_' + str(player)\n",
    "    else:\n",
    "        raise Exception(\"Can't match action description\")\n",
    "        \n",
    "    return formatted_action\n",
    "\n",
    "#print(format_action('GOLD : Player 1', card_types_SD))\n",
    "#print(format_action('BuyCard: PROVINCE by player 1', card_types))\n",
    "#print(format_action('End Current Phase', card_types_SD))"
   ]
  },
  {
   "cell_type": "code",
   "execution_count": 7,
   "id": "352a3f49",
   "metadata": {},
   "outputs": [
    {
     "name": "stdout",
     "output_type": "stream",
     "text": [
      "       GameID  Player  Round  Turn              ActionDescription   ProcAction\n",
      "0           2       0      0     0              End Current Phase          ECF\n",
      "1           2       0      0     0              End Current Phase          ECF\n",
      "2           2       1      0     1              End Current Phase          ECF\n",
      "3           2       1      0     1    BuyCard: SILVER by player 1    BUYSILVER\n",
      "4           2       0      1     0              End Current Phase          ECF\n",
      "...       ...     ...    ...   ...                            ...          ...\n",
      "17005     201       0     18     0    BuyCard: ESTATE by player 0    BUYESTATE\n",
      "17006     201       1     18     1               WITCH : Player 1    PLAYWITCH\n",
      "17007     201       1     18     1  BuyCard: PROVINCE by player 1  BUYPROVINCE\n",
      "17008     201       0     19     0              End Current Phase          ECF\n",
      "17009     201       0     19     0  BuyCard: PROVINCE by player 0  BUYPROVINCE\n",
      "\n",
      "[17010 rows x 6 columns]\n"
     ]
    }
   ],
   "source": [
    "#process input file\n",
    "data['ProcAction'] = data.apply(lambda row: format_action(row['ActionDescription'], card_types), axis = 1)\n",
    "print(data)"
   ]
  },
  {
   "cell_type": "code",
   "execution_count": 13,
   "id": "53ac4842",
   "metadata": {},
   "outputs": [
    {
     "name": "stdout",
     "output_type": "stream",
     "text": [
      "Action list length: 33\n",
      "N-gram list length: 1089\n"
     ]
    }
   ],
   "source": [
    "#create list of all possible actions - note we are ignoring responses to opponents cards (for SD this means just \n",
    "#ignoring receiving curse cards\n",
    "\n",
    "buy_actions = ['BUY' + str(card) for card in card_types]\n",
    "play_actions = ['PLAY' + str(card) for card in card_types]\n",
    "all_actions_list = ['ECF'] + buy_actions + play_actions\n",
    "print(\"Action list length: \" + str(len(all_actions_list)))\n",
    "#print(all_actions_list)\n",
    "\n",
    "#create list of all possible N-grams\n",
    "all_ngrams_list = list(product(all_actions_list, repeat=N))\n",
    "#print(all_ngrams_list)\n",
    "print(\"N-gram list length: \" + str(len(all_ngrams_list)))"
   ]
  },
  {
   "cell_type": "code",
   "execution_count": 19,
   "id": "0d4ee839",
   "metadata": {},
   "outputs": [
    {
     "name": "stdout",
     "output_type": "stream",
     "text": [
      "     GameID  Player                                         ProcAction  \\\n",
      "0         2       0  ECF ECF ECF BUYWITCH ECF BUYSILVER PLAYWITCH B...   \n",
      "1         2       1  ECF BUYSILVER ECF BUYSILVER ECF BUYSILVER ECF ...   \n",
      "2         3       0  ECF BUYSILVER ECF BUYSILVER ECF BUYSILVER ECF ...   \n",
      "3         3       1  ECF ECF ECF BUYSILVER ECF BUYSILVER ECF BUYSIL...   \n",
      "4         4       0  ECF BUYSILVER ECF BUYSILVER ECF BUYWITCH ECF B...   \n",
      "..      ...     ...                                                ...   \n",
      "395     199       1  ECF BUYSILVER ECF BUYSILVER ECF BUYWITCH ECF B...   \n",
      "396     200       0  ECF BUYSILVER ECF BUYSILVER ECF BUYSILVER ECF ...   \n",
      "397     200       1  ECF BUYSILVER ECF BUYSILVER ECF BUYWITCH ECF B...   \n",
      "398     201       0  ECF BUYSILVER ECF BUYSILVER ECF BUYSILVER ECF ...   \n",
      "399     201       1  ECF BUYSILVER ECF BUYSILVER ECF BUYSILVER ECF ...   \n",
      "\n",
      "                                                NGrams  \n",
      "0    [(ECF, ECF), (ECF, ECF), (ECF, BUYWITCH), (BUY...  \n",
      "1    [(ECF, BUYSILVER), (BUYSILVER, ECF), (ECF, BUY...  \n",
      "2    [(ECF, BUYSILVER), (BUYSILVER, ECF), (ECF, BUY...  \n",
      "3    [(ECF, ECF), (ECF, ECF), (ECF, BUYSILVER), (BU...  \n",
      "4    [(ECF, BUYSILVER), (BUYSILVER, ECF), (ECF, BUY...  \n",
      "..                                                 ...  \n",
      "395  [(ECF, BUYSILVER), (BUYSILVER, ECF), (ECF, BUY...  \n",
      "396  [(ECF, BUYSILVER), (BUYSILVER, ECF), (ECF, BUY...  \n",
      "397  [(ECF, BUYSILVER), (BUYSILVER, ECF), (ECF, BUY...  \n",
      "398  [(ECF, BUYSILVER), (BUYSILVER, ECF), (ECF, BUY...  \n",
      "399  [(ECF, BUYSILVER), (BUYSILVER, ECF), (ECF, BUY...  \n",
      "\n",
      "[400 rows x 4 columns]\n"
     ]
    }
   ],
   "source": [
    "#convert input data so that each row contains gameID, player and then a list of ngrams \n",
    "#corresponding to the trace\n",
    "traces = data.groupby(['GameID', 'Player'])['ProcAction'].agg(lambda x: ' '.join(x)).reset_index()\n",
    "traces['NGrams'] = traces.apply(lambda row: list(ngrams(nltk.word_tokenize(row['ProcAction']),N)), axis = 1)\n",
    "print(traces)"
   ]
  },
  {
   "cell_type": "code",
   "execution_count": 24,
   "id": "0166e40a",
   "metadata": {},
   "outputs": [
    {
     "name": "stdout",
     "output_type": "stream",
     "text": [
      "1.0000000000000002\n"
     ]
    }
   ],
   "source": [
    "#function to compute N-gram probabilities, returns a dictionary with the gram as key\n",
    "#and probability as value. Unobserved grams are contained in the dictionary with a \n",
    "#corresponding probability of zero. Inputs are a list of n grams for a given player in \n",
    "#a single game and a list of all possible ngrams\n",
    "def calc_probabilities(ngrams_trace, ngrams_all):\n",
    "    # Compute the frequency of ngrams in the trace\n",
    "    frequency_counter = Counter(ngrams_trace)\n",
    "    \n",
    "    #calculate frequencies of all ngrams in ngrams_all that appear in the playtrace\n",
    "    event_count = {gram: frequency_counter.get(gram, 0) for gram in set(ngrams_all)}\n",
    "    \n",
    "    #normalise each entry with the number of n-grams observed for that trace, to convert\n",
    "    #counts into probabilities\n",
    "    probs = {key: value / (1.0*len(ngrams_trace)) for key, value in event_count.items()}\n",
    "    \n",
    "    return probs\n",
    "\n",
    "#check sum of probabilities is one\n",
    "example_trace = traces[(traces['GameID'] == 2.0) & (traces['Player'] == 0)]['NGrams'].iloc[0]\n",
    "calculated_probs = calc_probabilities(example_trace, all_ngrams_list)\n",
    "total_prob = 0 \n",
    "for key, value in calculated_probs.items():\n",
    "    total_prob += value\n",
    "print(total_prob)"
   ]
  },
  {
   "cell_type": "code",
   "execution_count": null,
   "id": "6a5980a1",
   "metadata": {},
   "outputs": [],
   "source": [
    "#next take two traces and compute Jensen-Shannon distance\n",
    "\n"
   ]
  },
  {
   "cell_type": "code",
   "execution_count": 14,
   "id": "c91fb675",
   "metadata": {},
   "outputs": [],
   "source": [
    "#calculate frequency distribution\n",
    "#freq_dist = FreqDist(trace_n_grams)\n",
    "#for key, value in freq_dist.items():\n",
    "#    print(f'{key}: {value}')\n",
    "#print(\"No of distinct ngrams observed: \" + str(len(freq_dist.keys())))"
   ]
  },
  {
   "cell_type": "code",
   "execution_count": null,
   "id": "2cace8a6",
   "metadata": {},
   "outputs": [],
   "source": [
    "#check probabilities sum to one"
   ]
  }
 ],
 "metadata": {
  "kernelspec": {
   "display_name": "Python 3 (ipykernel)",
   "language": "python",
   "name": "python3"
  },
  "language_info": {
   "codemirror_mode": {
    "name": "ipython",
    "version": 3
   },
   "file_extension": ".py",
   "mimetype": "text/x-python",
   "name": "python",
   "nbconvert_exporter": "python",
   "pygments_lexer": "ipython3",
   "version": "3.9.18"
  }
 },
 "nbformat": 4,
 "nbformat_minor": 5
}
